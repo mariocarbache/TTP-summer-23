{
  "nbformat": 4,
  "nbformat_minor": 0,
  "metadata": {
    "colab": {
      "provenance": [],
      "authorship_tag": "ABX9TyPuCk+adovpNwMPIDeO0srw",
      "include_colab_link": true
    },
    "kernelspec": {
      "name": "python3",
      "display_name": "Python 3"
    },
    "language_info": {
      "name": "python"
    }
  },
  "cells": [
    {
      "cell_type": "markdown",
      "metadata": {
        "id": "view-in-github",
        "colab_type": "text"
      },
      "source": [
        "<a href=\"https://colab.research.google.com/github/mariocarbache/TTP-summer-23/blob/main/Intro_to_python.ipynb\" target=\"_parent\"><img src=\"https://colab.research.google.com/assets/colab-badge.svg\" alt=\"Open In Colab\"/></a>"
      ]
    },
    {
      "cell_type": "markdown",
      "source": [
        "# Python Basics"
      ],
      "metadata": {
        "id": "7-ETAAXpHbMA"
      }
    },
    {
      "cell_type": "markdown",
      "source": [
        "## Strings & print()"
      ],
      "metadata": {
        "id": "eucqdoP1IkIz"
      }
    },
    {
      "cell_type": "code",
      "source": [
        "print('Hello World')\n",
        "# This line uses the print function to show/print \"Helllo World\" to the user"
      ],
      "metadata": {
        "colab": {
          "base_uri": "https://localhost:8080/"
        },
        "id": "VZJCKAdqIkGG",
        "outputId": "4224f8e8-60e0-4afd-cca0-322b403645be"
      },
      "execution_count": 2,
      "outputs": [
        {
          "output_type": "stream",
          "name": "stdout",
          "text": [
            "Hello World\n"
          ]
        }
      ]
    },
    {
      "cell_type": "code",
      "source": [
        "print(\"\"\"\n",
        "This is\n",
        "a multiple line text\n",
        "\"\"\")\n",
        "# When using triple \"\" within the triple function you can print multiple lines"
      ],
      "metadata": {
        "colab": {
          "base_uri": "https://localhost:8080/"
        },
        "id": "ho3r9wAbIj97",
        "outputId": "eae2c260-3782-4dcc-87bd-87d75130bb56"
      },
      "execution_count": 3,
      "outputs": [
        {
          "output_type": "stream",
          "name": "stdout",
          "text": [
            "\n",
            "This is \n",
            "a multiple line text\n",
            "\n"
          ]
        }
      ]
    },
    {
      "cell_type": "code",
      "source": [
        "print(\"\\n\\tHi there\\n\") #Using \\n before the string text your text will start in a new line and \\t is to make it a title"
      ],
      "metadata": {
        "colab": {
          "base_uri": "https://localhost:8080/"
        },
        "id": "2x8jUtZAIj4t",
        "outputId": "136ff7b3-a41e-4105-95e6-315cc5113eff"
      },
      "execution_count": 4,
      "outputs": [
        {
          "output_type": "stream",
          "name": "stdout",
          "text": [
            "\n",
            "\tHi there\n",
            "\n"
          ]
        }
      ]
    },
    {
      "cell_type": "code",
      "source": [
        "print(\"mario\" + \" carbache\") #You can concatenate strings with the plus sign"
      ],
      "metadata": {
        "colab": {
          "base_uri": "https://localhost:8080/"
        },
        "id": "99yeyqoDIj1b",
        "outputId": "220d9df7-d3e0-4e9d-cb3f-2c3768eec83e"
      },
      "execution_count": 5,
      "outputs": [
        {
          "output_type": "stream",
          "name": "stdout",
          "text": [
            "mario carbache\n"
          ]
        }
      ]
    },
    {
      "cell_type": "markdown",
      "source": [
        "## Variables\n"
      ],
      "metadata": {
        "id": "A7g5hXXqIjyH"
      }
    },
    {
      "cell_type": "code",
      "source": [
        "dog=3\n",
        "cat=\"Hi\" #Python recocnizes variables type automatically"
      ],
      "metadata": {
        "id": "9UYQujF7Iji1"
      },
      "execution_count": 6,
      "outputs": []
    },
    {
      "cell_type": "code",
      "source": [
        "cat #displaying the content of the variable cat"
      ],
      "metadata": {
        "colab": {
          "base_uri": "https://localhost:8080/",
          "height": 35
        },
        "id": "jKTr3A9hIjeV",
        "outputId": "7a40fc0a-15a0-4581-9246-565f2e5f36a0"
      },
      "execution_count": 7,
      "outputs": [
        {
          "output_type": "execute_result",
          "data": {
            "text/plain": [
              "'Hi'"
            ],
            "application/vnd.google.colaboratory.intrinsic+json": {
              "type": "string"
            }
          },
          "metadata": {},
          "execution_count": 7
        }
      ]
    },
    {
      "cell_type": "code",
      "source": [
        "type(dog) #type() function is used to find the type of a specific variable"
      ],
      "metadata": {
        "colab": {
          "base_uri": "https://localhost:8080/"
        },
        "id": "5r28AeXKIjb2",
        "outputId": "1fc06ffd-13b1-4735-f851-950946fc8b24"
      },
      "execution_count": 8,
      "outputs": [
        {
          "output_type": "execute_result",
          "data": {
            "text/plain": [
              "int"
            ]
          },
          "metadata": {},
          "execution_count": 8
        }
      ]
    },
    {
      "cell_type": "code",
      "source": [
        "print(cat + \" Mario Carbache\") #Concatenating a variable and a string"
      ],
      "metadata": {
        "colab": {
          "base_uri": "https://localhost:8080/"
        },
        "id": "xKLRCMP0IjZ6",
        "outputId": "9f0cde4e-8ff7-4867-9e16-8b562e48ee97"
      },
      "execution_count": 9,
      "outputs": [
        {
          "output_type": "stream",
          "name": "stdout",
          "text": [
            "Hi Mario Carbache\n"
          ]
        }
      ]
    },
    {
      "cell_type": "code",
      "source": [
        "print(dog * 2.5) #In print() function you can execute mathematical operations with variables"
      ],
      "metadata": {
        "colab": {
          "base_uri": "https://localhost:8080/"
        },
        "id": "fzhguR-kIjWP",
        "outputId": "aad9a33b-72ca-4262-f0da-45f3cfc619be"
      },
      "execution_count": 10,
      "outputs": [
        {
          "output_type": "stream",
          "name": "stdout",
          "text": [
            "7.5\n"
          ]
        }
      ]
    },
    {
      "cell_type": "code",
      "source": [
        "cat, dogs, rabbits= 2, 5, \"hi\" #Initializing 3 variables on the same line"
      ],
      "metadata": {
        "id": "v866nHQhIjQ5"
      },
      "execution_count": 11,
      "outputs": []
    },
    {
      "cell_type": "code",
      "source": [
        "print(dogs) #Showing the content of the variable dog"
      ],
      "metadata": {
        "colab": {
          "base_uri": "https://localhost:8080/"
        },
        "id": "wvCgkw2IIjNZ",
        "outputId": "40dac6ff-5eb4-4c33-ccfa-6b7fe5c0049c"
      },
      "execution_count": 12,
      "outputs": [
        {
          "output_type": "stream",
          "name": "stdout",
          "text": [
            "5\n"
          ]
        }
      ]
    },
    {
      "cell_type": "code",
      "source": [
        "print(rabbits) #Displaying the content of rabbits variable"
      ],
      "metadata": {
        "colab": {
          "base_uri": "https://localhost:8080/"
        },
        "id": "RJVldjGfNgd-",
        "outputId": "a828d4d4-cda1-4e01-936c-41cc3c400483"
      },
      "execution_count": 13,
      "outputs": [
        {
          "output_type": "stream",
          "name": "stdout",
          "text": [
            "hi\n"
          ]
        }
      ]
    },
    {
      "cell_type": "markdown",
      "source": [
        "## More strings"
      ],
      "metadata": {
        "id": "T4DBPgu7Ngbd"
      }
    },
    {
      "cell_type": "code",
      "source": [
        "name=\"Mario Carbache Tiguz\""
      ],
      "metadata": {
        "id": "b7WzMWsmNgYj"
      },
      "execution_count": 14,
      "outputs": []
    },
    {
      "cell_type": "code",
      "source": [
        "print(name[3]) #Printing the fourth element in the string name"
      ],
      "metadata": {
        "colab": {
          "base_uri": "https://localhost:8080/"
        },
        "id": "mkme2xIMNgWs",
        "outputId": "fada958a-1012-4542-a296-e4e676f1452c"
      },
      "execution_count": 15,
      "outputs": [
        {
          "output_type": "stream",
          "name": "stdout",
          "text": [
            "i\n"
          ]
        }
      ]
    },
    {
      "cell_type": "code",
      "source": [
        "print(name[9]) #Same as above but with the 10 element"
      ],
      "metadata": {
        "colab": {
          "base_uri": "https://localhost:8080/"
        },
        "id": "tjUbw8xuNgTJ",
        "outputId": "eebe5a31-56bf-4380-fee7-72956e8d87ca"
      },
      "execution_count": 16,
      "outputs": [
        {
          "output_type": "stream",
          "name": "stdout",
          "text": [
            "b\n"
          ]
        }
      ]
    },
    {
      "cell_type": "code",
      "source": [
        "len(name) #len() function is used to find the lenght of a specific string"
      ],
      "metadata": {
        "colab": {
          "base_uri": "https://localhost:8080/"
        },
        "id": "4is8kBvQNgO2",
        "outputId": "cde77760-1850-48e7-b501-da37aa60dd4d"
      },
      "execution_count": 17,
      "outputs": [
        {
          "output_type": "execute_result",
          "data": {
            "text/plain": [
              "20"
            ]
          },
          "metadata": {},
          "execution_count": 17
        }
      ]
    },
    {
      "cell_type": "code",
      "source": [
        "name[19] #Last element in the name string"
      ],
      "metadata": {
        "colab": {
          "base_uri": "https://localhost:8080/",
          "height": 35
        },
        "id": "72O99namNgLK",
        "outputId": "360e4891-6bed-4f92-ed78-8e343efc6641"
      },
      "execution_count": 18,
      "outputs": [
        {
          "output_type": "execute_result",
          "data": {
            "text/plain": [
              "'z'"
            ],
            "application/vnd.google.colaboratory.intrinsic+json": {
              "type": "string"
            }
          },
          "metadata": {},
          "execution_count": 18
        }
      ]
    },
    {
      "cell_type": "code",
      "source": [
        "name[-1] #Easier way to print the last element of the string name"
      ],
      "metadata": {
        "colab": {
          "base_uri": "https://localhost:8080/",
          "height": 35
        },
        "id": "E3N0ipt7NgID",
        "outputId": "0e4143d2-62a8-4faf-a33c-5172cf180aee"
      },
      "execution_count": 19,
      "outputs": [
        {
          "output_type": "execute_result",
          "data": {
            "text/plain": [
              "'z'"
            ],
            "application/vnd.google.colaboratory.intrinsic+json": {
              "type": "string"
            }
          },
          "metadata": {},
          "execution_count": 19
        }
      ]
    },
    {
      "cell_type": "markdown",
      "source": [
        "## String formatting"
      ],
      "metadata": {
        "id": "pMH0yZSPNgD7"
      }
    },
    {
      "cell_type": "markdown",
      "source": [
        "### .format() method"
      ],
      "metadata": {
        "id": "5cyhJP7YRH-A"
      }
    },
    {
      "cell_type": "code",
      "source": [
        "price = 59.99 #float variable"
      ],
      "metadata": {
        "id": "_anCfbwTPz6K"
      },
      "execution_count": 20,
      "outputs": []
    },
    {
      "cell_type": "code",
      "source": [
        "msg= \"The price is {} dollars\".format(price) # in format() you can put as many variable as you want separate by coma depending on the number {} in the string"
      ],
      "metadata": {
        "id": "c_r8lA8QPz3F"
      },
      "execution_count": 21,
      "outputs": []
    },
    {
      "cell_type": "code",
      "source": [
        "msg #Displaying the message"
      ],
      "metadata": {
        "colab": {
          "base_uri": "https://localhost:8080/",
          "height": 35
        },
        "id": "yrACT4wYPz0F",
        "outputId": "4f8be82b-6f4f-4f60-dbdf-2ecee0eab8ae"
      },
      "execution_count": 22,
      "outputs": [
        {
          "output_type": "execute_result",
          "data": {
            "text/plain": [
              "'The price is 59.99 dollars'"
            ],
            "application/vnd.google.colaboratory.intrinsic+json": {
              "type": "string"
            }
          },
          "metadata": {},
          "execution_count": 22
        }
      ]
    },
    {
      "cell_type": "markdown",
      "source": [
        "### The F string method"
      ],
      "metadata": {
        "id": "1TyUcCLAPzxc"
      }
    },
    {
      "cell_type": "code",
      "source": [
        "price = 19.99\n",
        "items = 3 #Two variables of float and integer type"
      ],
      "metadata": {
        "id": "5HVHpAfJPzuR"
      },
      "execution_count": 23,
      "outputs": []
    },
    {
      "cell_type": "code",
      "source": [
        "msg= f'this idividual item is {price}' #With the f at the beginning of the string you're telling the compiler that the string is being formatted"
      ],
      "metadata": {
        "id": "D-66gu8EPzsj"
      },
      "execution_count": 24,
      "outputs": []
    },
    {
      "cell_type": "code",
      "source": [
        "msg #Displaying the formated message"
      ],
      "metadata": {
        "colab": {
          "base_uri": "https://localhost:8080/",
          "height": 35
        },
        "id": "E1XH6ZUuPzpm",
        "outputId": "250cddc1-111a-46c9-afa7-5b1dc944c625"
      },
      "execution_count": 25,
      "outputs": [
        {
          "output_type": "execute_result",
          "data": {
            "text/plain": [
              "'this idividual item is 19.99'"
            ],
            "application/vnd.google.colaboratory.intrinsic+json": {
              "type": "string"
            }
          },
          "metadata": {},
          "execution_count": 25
        }
      ]
    },
    {
      "cell_type": "code",
      "source": [
        "msg2= f'total is {price * items}' #You can do mathematical operations inside curly brackets of a formatted string"
      ],
      "metadata": {
        "id": "69uR3avVPzln"
      },
      "execution_count": 26,
      "outputs": []
    },
    {
      "cell_type": "code",
      "source": [
        "msg2 #Displaying the message"
      ],
      "metadata": {
        "colab": {
          "base_uri": "https://localhost:8080/",
          "height": 35
        },
        "id": "_3fiwsqLPzis",
        "outputId": "46ac5a75-fb15-4732-e340-d8c3e294b885"
      },
      "execution_count": 27,
      "outputs": [
        {
          "output_type": "execute_result",
          "data": {
            "text/plain": [
              "'total is 59.97'"
            ],
            "application/vnd.google.colaboratory.intrinsic+json": {
              "type": "string"
            }
          },
          "metadata": {},
          "execution_count": 27
        }
      ]
    },
    {
      "cell_type": "markdown",
      "source": [
        "##String functions"
      ],
      "metadata": {
        "id": "teb53yXHPzfH"
      }
    },
    {
      "cell_type": "code",
      "source": [
        "dir(msg)"
      ],
      "metadata": {
        "colab": {
          "base_uri": "https://localhost:8080/"
        },
        "id": "8wrDetiYJagr",
        "outputId": "2b0e9fd7-ce9d-40eb-d6ab-18a3636d574d"
      },
      "execution_count": 28,
      "outputs": [
        {
          "output_type": "execute_result",
          "data": {
            "text/plain": [
              "['__add__',\n",
              " '__class__',\n",
              " '__contains__',\n",
              " '__delattr__',\n",
              " '__dir__',\n",
              " '__doc__',\n",
              " '__eq__',\n",
              " '__format__',\n",
              " '__ge__',\n",
              " '__getattribute__',\n",
              " '__getitem__',\n",
              " '__getnewargs__',\n",
              " '__gt__',\n",
              " '__hash__',\n",
              " '__init__',\n",
              " '__init_subclass__',\n",
              " '__iter__',\n",
              " '__le__',\n",
              " '__len__',\n",
              " '__lt__',\n",
              " '__mod__',\n",
              " '__mul__',\n",
              " '__ne__',\n",
              " '__new__',\n",
              " '__reduce__',\n",
              " '__reduce_ex__',\n",
              " '__repr__',\n",
              " '__rmod__',\n",
              " '__rmul__',\n",
              " '__setattr__',\n",
              " '__sizeof__',\n",
              " '__str__',\n",
              " '__subclasshook__',\n",
              " 'capitalize',\n",
              " 'casefold',\n",
              " 'center',\n",
              " 'count',\n",
              " 'encode',\n",
              " 'endswith',\n",
              " 'expandtabs',\n",
              " 'find',\n",
              " 'format',\n",
              " 'format_map',\n",
              " 'index',\n",
              " 'isalnum',\n",
              " 'isalpha',\n",
              " 'isascii',\n",
              " 'isdecimal',\n",
              " 'isdigit',\n",
              " 'isidentifier',\n",
              " 'islower',\n",
              " 'isnumeric',\n",
              " 'isprintable',\n",
              " 'isspace',\n",
              " 'istitle',\n",
              " 'isupper',\n",
              " 'join',\n",
              " 'ljust',\n",
              " 'lower',\n",
              " 'lstrip',\n",
              " 'maketrans',\n",
              " 'partition',\n",
              " 'removeprefix',\n",
              " 'removesuffix',\n",
              " 'replace',\n",
              " 'rfind',\n",
              " 'rindex',\n",
              " 'rjust',\n",
              " 'rpartition',\n",
              " 'rsplit',\n",
              " 'rstrip',\n",
              " 'split',\n",
              " 'splitlines',\n",
              " 'startswith',\n",
              " 'strip',\n",
              " 'swapcase',\n",
              " 'title',\n",
              " 'translate',\n",
              " 'upper',\n",
              " 'zfill']"
            ]
          },
          "metadata": {},
          "execution_count": 28
        }
      ]
    },
    {
      "cell_type": "code",
      "source": [
        "words = msg.split(' ')"
      ],
      "metadata": {
        "id": "fgXNbR3OJZ7N"
      },
      "execution_count": 29,
      "outputs": []
    },
    {
      "cell_type": "code",
      "source": [
        "print(words)"
      ],
      "metadata": {
        "colab": {
          "base_uri": "https://localhost:8080/"
        },
        "id": "V6kc-5sLJZ4q",
        "outputId": "4f7e3451-773f-442c-9e15-b4e8f0e9dde2"
      },
      "execution_count": 31,
      "outputs": [
        {
          "output_type": "stream",
          "name": "stdout",
          "text": [
            "['this', 'idividual', 'item', 'is', '19.99']\n"
          ]
        }
      ]
    },
    {
      "cell_type": "code",
      "source": [
        "elements = msg.split('e')"
      ],
      "metadata": {
        "id": "Ijvag9D8JZ2A"
      },
      "execution_count": 32,
      "outputs": []
    },
    {
      "cell_type": "code",
      "source": [
        "print(elements)"
      ],
      "metadata": {
        "colab": {
          "base_uri": "https://localhost:8080/"
        },
        "id": "DxRtxKU7JZzQ",
        "outputId": "f94c531d-5fd8-44c5-b4be-4235c390661a"
      },
      "execution_count": 34,
      "outputs": [
        {
          "output_type": "stream",
          "name": "stdout",
          "text": [
            "['this idividual it', 'm is 19.99']\n"
          ]
        }
      ]
    },
    {
      "cell_type": "code",
      "source": [
        "print(msg.upper())"
      ],
      "metadata": {
        "colab": {
          "base_uri": "https://localhost:8080/"
        },
        "id": "u0xBlgNWJZvQ",
        "outputId": "fefe55b8-f9dc-4ea9-9424-75aeff41c1cf"
      },
      "execution_count": 36,
      "outputs": [
        {
          "output_type": "stream",
          "name": "stdout",
          "text": [
            "THIS IDIVIDUAL ITEM IS 19.99\n"
          ]
        }
      ]
    },
    {
      "cell_type": "markdown",
      "source": [
        "###The input method"
      ],
      "metadata": {
        "id": "ohOxUA8jJZss"
      }
    },
    {
      "cell_type": "code",
      "source": [
        "data = input('What is your name: ')"
      ],
      "metadata": {
        "colab": {
          "base_uri": "https://localhost:8080/"
        },
        "id": "g-4EfNQxJZom",
        "outputId": "c3304c06-5f6a-4da6-aa08-3c2d8f586d23"
      },
      "execution_count": 37,
      "outputs": [
        {
          "name": "stdout",
          "output_type": "stream",
          "text": [
            "What is your name: Bob\n"
          ]
        }
      ]
    },
    {
      "cell_type": "code",
      "source": [
        "print(data)"
      ],
      "metadata": {
        "colab": {
          "base_uri": "https://localhost:8080/"
        },
        "id": "1tZCOSZOJZiL",
        "outputId": "f14b92cc-c166-4754-836b-70ea547391c1"
      },
      "execution_count": 39,
      "outputs": [
        {
          "output_type": "stream",
          "name": "stdout",
          "text": [
            "Bob\n"
          ]
        }
      ]
    },
    {
      "cell_type": "code",
      "source": [
        "print(f'Hello {data}')"
      ],
      "metadata": {
        "colab": {
          "base_uri": "https://localhost:8080/"
        },
        "id": "7Q9Fdx4oJZXD",
        "outputId": "11ac21b0-a630-440e-cec2-183a99f2b191"
      },
      "execution_count": 41,
      "outputs": [
        {
          "output_type": "stream",
          "name": "stdout",
          "text": [
            "Hello Bob\n"
          ]
        }
      ]
    },
    {
      "cell_type": "code",
      "source": [
        "num=int(input('enter a num: '))"
      ],
      "metadata": {
        "colab": {
          "base_uri": "https://localhost:8080/"
        },
        "id": "r0afo4EcM5oh",
        "outputId": "936d79a2-3eb5-4529-b13e-d0351a9a902f"
      },
      "execution_count": 42,
      "outputs": [
        {
          "name": "stdout",
          "output_type": "stream",
          "text": [
            "enter a num: 10\n"
          ]
        }
      ]
    },
    {
      "cell_type": "code",
      "source": [
        "type(num)"
      ],
      "metadata": {
        "colab": {
          "base_uri": "https://localhost:8080/"
        },
        "id": "arDadESeM5hF",
        "outputId": "d09d6071-26b8-402c-b755-97b139dc684a"
      },
      "execution_count": 43,
      "outputs": [
        {
          "output_type": "execute_result",
          "data": {
            "text/plain": [
              "int"
            ]
          },
          "metadata": {},
          "execution_count": 43
        }
      ]
    },
    {
      "cell_type": "code",
      "source": [
        "name=(input('Enter your full name: '))\n",
        "age=int(input('Enter your age: '))\n",
        "address=(input('Where do you live: '))\n",
        "occupation=(input('Enter occupation: '))\n",
        "print(f'Hi {name}, you are {age}, you live in {address}, and your occupation is {occupation}')"
      ],
      "metadata": {
        "colab": {
          "base_uri": "https://localhost:8080/"
        },
        "id": "79H1GqVVM5bu",
        "outputId": "3fab5421-5dba-4a9d-f9e4-8a072cc6f803"
      },
      "execution_count": 48,
      "outputs": [
        {
          "output_type": "stream",
          "name": "stdout",
          "text": [
            "Enter your full name: Mario\n",
            "Enter your age: 24\n",
            "Where do you live: Brooklyn\n",
            "Enter occupation: Programmer\n",
            "Hi Mario, you are 24, you live in Brooklyn, and your occupation is Programmer\n"
          ]
        }
      ]
    },
    {
      "cell_type": "markdown",
      "source": [
        "##Numbers"
      ],
      "metadata": {
        "id": "7gud6XikM5UM"
      }
    },
    {
      "cell_type": "code",
      "source": [
        "cats = 7 #simple integer object\n",
        "money = -35.5 #float number\n",
        "x = 2+5j #complex number\n",
        "message = \"Hello Alice!\" #string"
      ],
      "metadata": {
        "id": "CFJmwUyYtIe-"
      },
      "execution_count": 1,
      "outputs": []
    },
    {
      "cell_type": "code",
      "source": [
        "print(type(cats))\n",
        "print(type(money))\n",
        "print(type(x))\n",
        "print(type(message))"
      ],
      "metadata": {
        "colab": {
          "base_uri": "https://localhost:8080/"
        },
        "id": "_Jms0llttIU0",
        "outputId": "19ece50a-23e8-4c5e-90e9-fb4f6245d278"
      },
      "execution_count": 2,
      "outputs": [
        {
          "output_type": "stream",
          "name": "stdout",
          "text": [
            "<class 'int'>\n",
            "<class 'float'>\n",
            "<class 'complex'>\n",
            "<class 'str'>\n"
          ]
        }
      ]
    },
    {
      "cell_type": "code",
      "source": [
        "shoes = 5 #integer object\n",
        "print(f\"I own {shoes} pairs of shoes\")\n",
        "print(type(shoes))"
      ],
      "metadata": {
        "id": "OY1jkGXDtIPy"
      },
      "execution_count": null,
      "outputs": []
    },
    {
      "cell_type": "code",
      "source": [
        "rate = 3/2 #float object\n",
        "print(f\"I can complete {rate} projects per month\")\n",
        "print(type(rate))"
      ],
      "metadata": {
        "colab": {
          "base_uri": "https://localhost:8080/"
        },
        "id": "ZPvS2WkPtIEl",
        "outputId": "3b030537-7469-4d90-e29d-4e66427b5c86"
      },
      "execution_count": 3,
      "outputs": [
        {
          "output_type": "stream",
          "name": "stdout",
          "text": [
            "I can complete 1.5 projects per month\n",
            "<class 'float'>\n"
          ]
        }
      ]
    },
    {
      "cell_type": "code",
      "source": [
        "a = 6\n",
        "b = 2.5\n",
        "print(f\"{a} * {b} = {a * b}\") #The result of a multiplication between int and float will be a float\n",
        "print(type(a * b))"
      ],
      "metadata": {
        "colab": {
          "base_uri": "https://localhost:8080/"
        },
        "id": "8gA8H2i6tIBQ",
        "outputId": "e658cf21-22aa-4a0a-bb08-8366a231946b"
      },
      "execution_count": 4,
      "outputs": [
        {
          "output_type": "stream",
          "name": "stdout",
          "text": [
            "6 * 2.5 = 15.0\n",
            "<class 'float'>\n"
          ]
        }
      ]
    },
    {
      "cell_type": "markdown",
      "source": [
        "###Conversions"
      ],
      "metadata": {
        "id": "Z89fUNX4M5KZ"
      }
    },
    {
      "cell_type": "code",
      "source": [
        "value = 3.8\n",
        "convert = int(value) #converts the float into an integer\n",
        "print(convert)\n",
        "print(type(convert))"
      ],
      "metadata": {
        "id": "obnQ_7HjtfYj"
      },
      "execution_count": null,
      "outputs": []
    },
    {
      "cell_type": "code",
      "source": [
        "number = int(\"25\") #declare variable as an integer\n",
        "print(number)\n",
        "print(type(number))"
      ],
      "metadata": {
        "id": "2ztW5gMHtfN0"
      },
      "execution_count": null,
      "outputs": []
    },
    {
      "cell_type": "code",
      "source": [
        "num2 = 'twenty' #python doesn't know english so this CAN'T be converted into an integer\n",
        "print(len(num2))"
      ],
      "metadata": {
        "id": "TLoS9U5TtfKq"
      },
      "execution_count": null,
      "outputs": []
    },
    {
      "cell_type": "code",
      "source": [
        "value = 78\n",
        "convert = float(value) #converts the int into a float number\n",
        "print(convert)\n",
        "print(type(convert))\n",
        "convert = float(\"56.48\")\n",
        "print(convert)\n",
        "print(type(convert))\n"
      ],
      "metadata": {
        "id": "Wz9GDMsTte-z"
      },
      "execution_count": null,
      "outputs": []
    },
    {
      "cell_type": "code",
      "source": [
        "value = 38\n",
        "convert = complex(value) #converts the int into a complex number\n",
        "print(convert)\n",
        "print(type(convert))\n"
      ],
      "metadata": {
        "id": "cpW1QUUbtrNp"
      },
      "execution_count": null,
      "outputs": []
    },
    {
      "cell_type": "code",
      "source": [
        "value = 28.4875\n",
        "convert = str(value) #converts the float variable into a string\n",
        "print(convert)\n",
        "print(type(convert))"
      ],
      "metadata": {
        "id": "9wQDP_MHtrGm"
      },
      "execution_count": null,
      "outputs": []
    },
    {
      "cell_type": "code",
      "source": [
        "data = input(\"Please enter a value: \")\n",
        "print(int(data)) #prints variable as an integer\n",
        "print(float(data)) #as a float\n",
        "print(complex(data)) #as a complex number\n",
        "print(str(data)) #as a string"
      ],
      "metadata": {
        "id": "dPqFSsdrt0aN"
      },
      "execution_count": null,
      "outputs": []
    },
    {
      "cell_type": "code",
      "source": [
        "pi = 3.14159\n",
        "print(type(pi))\n",
        "print(int(pi))\n",
        "print(complex(pi))\n",
        "print(str(pi))"
      ],
      "metadata": {
        "id": "HpL0H0WFt7Wy"
      },
      "execution_count": null,
      "outputs": []
    },
    {
      "cell_type": "markdown",
      "source": [
        "###Operations"
      ],
      "metadata": {
        "id": "mMd6Kuj7t8sz"
      }
    },
    {
      "cell_type": "code",
      "source": [
        "print(259 / 4)"
      ],
      "metadata": {
        "id": "huSbTmVFuBTK"
      },
      "execution_count": null,
      "outputs": []
    },
    {
      "cell_type": "code",
      "source": [
        "print(259 % 4) #Modulo operation (the remainder of 259 divided by 4)"
      ],
      "metadata": {
        "id": "luyG_TNNuBH-"
      },
      "execution_count": null,
      "outputs": []
    },
    {
      "cell_type": "code",
      "source": [
        "print(9 ** 4) #Power operator 9 to the 4"
      ],
      "metadata": {
        "id": "2hmDxapcuBEj"
      },
      "execution_count": null,
      "outputs": []
    },
    {
      "cell_type": "code",
      "source": [
        "print(9 // 4) #Floor operator"
      ],
      "metadata": {
        "id": "9fXNyGJsuA_L"
      },
      "execution_count": null,
      "outputs": []
    },
    {
      "cell_type": "markdown",
      "source": [
        "###Assingment operators"
      ],
      "metadata": {
        "id": "ONecvt2duAdk"
      }
    },
    {
      "cell_type": "code",
      "source": [
        "number=int(input('Enter a number: '))\n",
        "number+=9 #Add 9 to number\n",
        "print(number)\n",
        "number-=1 #Subtract 1 to number\n",
        "print(number)\n",
        "number*=3 #Multiple number to 3\n",
        "print(number)\n",
        "number/=2 #Divide number by 2\n",
        "print(number)"
      ],
      "metadata": {
        "colab": {
          "base_uri": "https://localhost:8080/"
        },
        "id": "3wuYgGJNM5F4",
        "outputId": "d5cef797-93c5-4ba5-8094-48caf2f74350"
      },
      "execution_count": 52,
      "outputs": [
        {
          "output_type": "stream",
          "name": "stdout",
          "text": [
            "Enter a number: 3\n",
            "12\n",
            "11\n",
            "33\n",
            "16.5\n"
          ]
        }
      ]
    },
    {
      "cell_type": "markdown",
      "source": [
        "##Lists"
      ],
      "metadata": {
        "id": "NUsASYaqunuX"
      }
    },
    {
      "cell_type": "code",
      "source": [
        "data=[] #Lists are containers that can hold multiple objects\n",
        "for x in range(10):\n",
        "  element=input('Enter an item: ')\n",
        "  data.append(element)\n",
        "print(data)"
      ],
      "metadata": {
        "colab": {
          "base_uri": "https://localhost:8080/"
        },
        "id": "EZ4lWjYsM7Mq",
        "outputId": "b6d2ff27-3dc9-430d-bece-3d5f3d723198"
      },
      "execution_count": 62,
      "outputs": [
        {
          "output_type": "stream",
          "name": "stdout",
          "text": [
            "Enter an item: 1\n",
            "Enter an item: 2\n",
            "Enter an item: 3\n",
            "Enter an item: 4\n",
            "Enter an item: 5\n",
            "Enter an item: 6\n",
            "Enter an item: 7\n",
            "Enter an item: 8\n",
            "Enter an item: 9\n",
            "['1', '2', '3', '4', '5', '6', '7', '8', '9']\n"
          ]
        }
      ]
    },
    {
      "cell_type": "code",
      "source": [],
      "metadata": {
        "id": "H4veit74M7KB"
      },
      "execution_count": null,
      "outputs": []
    },
    {
      "cell_type": "code",
      "source": [],
      "metadata": {
        "id": "5ffNcwwDM7Ea"
      },
      "execution_count": null,
      "outputs": []
    },
    {
      "cell_type": "code",
      "source": [],
      "metadata": {
        "id": "1iWwlLjPM6_l"
      },
      "execution_count": null,
      "outputs": []
    },
    {
      "cell_type": "code",
      "source": [],
      "metadata": {
        "id": "noxsPn8MM67a"
      },
      "execution_count": null,
      "outputs": []
    }
  ]
}