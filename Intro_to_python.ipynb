{
  "nbformat": 4,
  "nbformat_minor": 0,
  "metadata": {
    "colab": {
      "provenance": [],
      "authorship_tag": "ABX9TyOIOceokq32PiIMRqXmE0gV",
      "include_colab_link": true
    },
    "kernelspec": {
      "name": "python3",
      "display_name": "Python 3"
    },
    "language_info": {
      "name": "python"
    }
  },
  "cells": [
    {
      "cell_type": "markdown",
      "metadata": {
        "id": "view-in-github",
        "colab_type": "text"
      },
      "source": [
        "<a href=\"https://colab.research.google.com/github/mariocarbache/TTP-summer-23/blob/main/Intro_to_python.ipynb\" target=\"_parent\"><img src=\"https://colab.research.google.com/assets/colab-badge.svg\" alt=\"Open In Colab\"/></a>"
      ]
    },
    {
      "cell_type": "markdown",
      "source": [
        "# Python Basics"
      ],
      "metadata": {
        "id": "7-ETAAXpHbMA"
      }
    },
    {
      "cell_type": "markdown",
      "source": [
        "## Strings & print()"
      ],
      "metadata": {
        "id": "eucqdoP1IkIz"
      }
    },
    {
      "cell_type": "code",
      "source": [
        "print('Hello World')\n",
        "# This line uses the print function to show/print \"Helllo World\" to the user"
      ],
      "metadata": {
        "colab": {
          "base_uri": "https://localhost:8080/"
        },
        "id": "VZJCKAdqIkGG",
        "outputId": "d0f83150-8fea-413f-ba8e-97d94f461dd4"
      },
      "execution_count": 36,
      "outputs": [
        {
          "output_type": "stream",
          "name": "stdout",
          "text": [
            "Hello World\n"
          ]
        }
      ]
    },
    {
      "cell_type": "code",
      "source": [
        "print(\"\"\"\n",
        "This is \n",
        "a multiple line text\n",
        "\"\"\")\n",
        "# When using triple \"\" within the triple function you can print multiple lines "
      ],
      "metadata": {
        "colab": {
          "base_uri": "https://localhost:8080/"
        },
        "id": "ho3r9wAbIj97",
        "outputId": "fed37681-0402-4b18-b753-21b7904e9de6"
      },
      "execution_count": 1,
      "outputs": [
        {
          "output_type": "stream",
          "name": "stdout",
          "text": [
            "\n",
            "This is \n",
            "a multiple line text\n",
            "\n"
          ]
        }
      ]
    },
    {
      "cell_type": "code",
      "source": [
        "print(\"\\n\\tHi there\\n\") #Using \\n before the string text your text will start in a new line and \\t is to make it a title"
      ],
      "metadata": {
        "colab": {
          "base_uri": "https://localhost:8080/"
        },
        "id": "2x8jUtZAIj4t",
        "outputId": "3b000484-0831-4371-81fa-ba2832a7d138"
      },
      "execution_count": 2,
      "outputs": [
        {
          "output_type": "stream",
          "name": "stdout",
          "text": [
            "\n",
            "\tHi there\n",
            "\n"
          ]
        }
      ]
    },
    {
      "cell_type": "code",
      "source": [
        "print(\"mario\" + \" carbache\") #You can concatenate strings with the plus sign"
      ],
      "metadata": {
        "colab": {
          "base_uri": "https://localhost:8080/"
        },
        "id": "99yeyqoDIj1b",
        "outputId": "f7b971c0-8dbd-479c-ee73-2de56013e064"
      },
      "execution_count": 3,
      "outputs": [
        {
          "output_type": "stream",
          "name": "stdout",
          "text": [
            "mario carbache\n"
          ]
        }
      ]
    },
    {
      "cell_type": "markdown",
      "source": [
        "## Variables\n"
      ],
      "metadata": {
        "id": "A7g5hXXqIjyH"
      }
    },
    {
      "cell_type": "code",
      "source": [
        "dog=3\n",
        "cat=\"Hi\" #Python recocnizes variables type automatically"
      ],
      "metadata": {
        "id": "9UYQujF7Iji1"
      },
      "execution_count": 4,
      "outputs": []
    },
    {
      "cell_type": "code",
      "source": [
        "cat #displaying the content of the variable cat"
      ],
      "metadata": {
        "colab": {
          "base_uri": "https://localhost:8080/",
          "height": 35
        },
        "id": "jKTr3A9hIjeV",
        "outputId": "ff531ccc-8d20-4dfb-be2d-95ea93dee5a7"
      },
      "execution_count": 5,
      "outputs": [
        {
          "output_type": "execute_result",
          "data": {
            "text/plain": [
              "'Hi'"
            ],
            "application/vnd.google.colaboratory.intrinsic+json": {
              "type": "string"
            }
          },
          "metadata": {},
          "execution_count": 5
        }
      ]
    },
    {
      "cell_type": "code",
      "source": [
        "type(dog) #type() function is used to find the type of a specific variable"
      ],
      "metadata": {
        "colab": {
          "base_uri": "https://localhost:8080/"
        },
        "id": "5r28AeXKIjb2",
        "outputId": "70cf9599-3dd0-4e11-9eb5-40632eb2e3ae"
      },
      "execution_count": 6,
      "outputs": [
        {
          "output_type": "execute_result",
          "data": {
            "text/plain": [
              "int"
            ]
          },
          "metadata": {},
          "execution_count": 6
        }
      ]
    },
    {
      "cell_type": "code",
      "source": [
        "print(cat + \" Mario Carbache\") #Concatenating a variable and a string"
      ],
      "metadata": {
        "colab": {
          "base_uri": "https://localhost:8080/"
        },
        "id": "xKLRCMP0IjZ6",
        "outputId": "231076e6-02fc-4802-a818-ff777eaf48f4"
      },
      "execution_count": 7,
      "outputs": [
        {
          "output_type": "stream",
          "name": "stdout",
          "text": [
            "Hi Mario Carbache\n"
          ]
        }
      ]
    },
    {
      "cell_type": "code",
      "source": [
        "print(dog * 2.5) #In print() function you can execute mathematical operations with variables"
      ],
      "metadata": {
        "colab": {
          "base_uri": "https://localhost:8080/"
        },
        "id": "fzhguR-kIjWP",
        "outputId": "cea385f0-3b48-4e65-823b-40b80a26b10c"
      },
      "execution_count": 8,
      "outputs": [
        {
          "output_type": "stream",
          "name": "stdout",
          "text": [
            "7.5\n"
          ]
        }
      ]
    },
    {
      "cell_type": "code",
      "source": [
        "cat, dogs, rabbits= 2, 5, \"hi\" #Initializing 3 variables on the same line"
      ],
      "metadata": {
        "id": "v866nHQhIjQ5"
      },
      "execution_count": 9,
      "outputs": []
    },
    {
      "cell_type": "code",
      "source": [
        "print(dogs) #Showing the content of the variable dog"
      ],
      "metadata": {
        "colab": {
          "base_uri": "https://localhost:8080/"
        },
        "id": "wvCgkw2IIjNZ",
        "outputId": "6d1b540b-7b23-47ed-994f-7ce5749390ca"
      },
      "execution_count": 10,
      "outputs": [
        {
          "output_type": "stream",
          "name": "stdout",
          "text": [
            "5\n"
          ]
        }
      ]
    },
    {
      "cell_type": "code",
      "source": [
        "print(rabbits) #Displaying the content of rabbits variable"
      ],
      "metadata": {
        "colab": {
          "base_uri": "https://localhost:8080/"
        },
        "id": "RJVldjGfNgd-",
        "outputId": "697964c7-8735-4ba8-cafc-803e7e9b70dd"
      },
      "execution_count": 11,
      "outputs": [
        {
          "output_type": "stream",
          "name": "stdout",
          "text": [
            "hi\n"
          ]
        }
      ]
    },
    {
      "cell_type": "markdown",
      "source": [
        "## More strings"
      ],
      "metadata": {
        "id": "T4DBPgu7Ngbd"
      }
    },
    {
      "cell_type": "code",
      "source": [
        "name=\"Mario Carbache Tiguz\""
      ],
      "metadata": {
        "id": "b7WzMWsmNgYj"
      },
      "execution_count": 15,
      "outputs": []
    },
    {
      "cell_type": "code",
      "source": [
        "print(name[3]) #Printing the fourth element in the string name"
      ],
      "metadata": {
        "colab": {
          "base_uri": "https://localhost:8080/"
        },
        "id": "mkme2xIMNgWs",
        "outputId": "a20ead8a-1766-4e17-ac79-a96c72b10cda"
      },
      "execution_count": 17,
      "outputs": [
        {
          "output_type": "stream",
          "name": "stdout",
          "text": [
            "i\n"
          ]
        }
      ]
    },
    {
      "cell_type": "code",
      "source": [
        "print(name[9]) #Same as above but with the 10 element"
      ],
      "metadata": {
        "colab": {
          "base_uri": "https://localhost:8080/"
        },
        "id": "tjUbw8xuNgTJ",
        "outputId": "71c8da1b-3dfc-4e59-def2-cd01bbba2a3e"
      },
      "execution_count": 18,
      "outputs": [
        {
          "output_type": "stream",
          "name": "stdout",
          "text": [
            "b\n"
          ]
        }
      ]
    },
    {
      "cell_type": "code",
      "source": [
        "len(name) #len() function is used to find the lenght of a specific string"
      ],
      "metadata": {
        "colab": {
          "base_uri": "https://localhost:8080/"
        },
        "id": "4is8kBvQNgO2",
        "outputId": "2865fad6-7b66-4bdb-9957-0bba33ba20a1"
      },
      "execution_count": 19,
      "outputs": [
        {
          "output_type": "execute_result",
          "data": {
            "text/plain": [
              "20"
            ]
          },
          "metadata": {},
          "execution_count": 19
        }
      ]
    },
    {
      "cell_type": "code",
      "source": [
        "name[19] #Last element in the name string"
      ],
      "metadata": {
        "colab": {
          "base_uri": "https://localhost:8080/",
          "height": 35
        },
        "id": "72O99namNgLK",
        "outputId": "f7207caa-dfc1-4a1f-8b2d-aa7f8fa6703e"
      },
      "execution_count": 20,
      "outputs": [
        {
          "output_type": "execute_result",
          "data": {
            "text/plain": [
              "'z'"
            ],
            "application/vnd.google.colaboratory.intrinsic+json": {
              "type": "string"
            }
          },
          "metadata": {},
          "execution_count": 20
        }
      ]
    },
    {
      "cell_type": "code",
      "source": [
        "name[-1] #Easier way to print the last element of the string name"
      ],
      "metadata": {
        "colab": {
          "base_uri": "https://localhost:8080/",
          "height": 35
        },
        "id": "E3N0ipt7NgID",
        "outputId": "ee5c0950-0e1a-4b39-ee39-b3f06acd8229"
      },
      "execution_count": 21,
      "outputs": [
        {
          "output_type": "execute_result",
          "data": {
            "text/plain": [
              "'z'"
            ],
            "application/vnd.google.colaboratory.intrinsic+json": {
              "type": "string"
            }
          },
          "metadata": {},
          "execution_count": 21
        }
      ]
    },
    {
      "cell_type": "markdown",
      "source": [
        "## String formatting"
      ],
      "metadata": {
        "id": "pMH0yZSPNgD7"
      }
    },
    {
      "cell_type": "markdown",
      "source": [
        "### .format() method"
      ],
      "metadata": {
        "id": "5cyhJP7YRH-A"
      }
    },
    {
      "cell_type": "code",
      "source": [
        "price = 59.99 #float variable"
      ],
      "metadata": {
        "id": "_anCfbwTPz6K"
      },
      "execution_count": 22,
      "outputs": []
    },
    {
      "cell_type": "code",
      "source": [
        "msg= \"The price is {} dollars\".format(price) # in format() you can put as many variable as you want separate by coma depending on the number {} in the string"
      ],
      "metadata": {
        "id": "c_r8lA8QPz3F"
      },
      "execution_count": 24,
      "outputs": []
    },
    {
      "cell_type": "code",
      "source": [
        "msg #Displaying the message"
      ],
      "metadata": {
        "colab": {
          "base_uri": "https://localhost:8080/",
          "height": 35
        },
        "id": "yrACT4wYPz0F",
        "outputId": "69460890-abb4-4647-cd43-99f8f38b19a2"
      },
      "execution_count": 25,
      "outputs": [
        {
          "output_type": "execute_result",
          "data": {
            "text/plain": [
              "'The price is 59.99 dollars'"
            ],
            "application/vnd.google.colaboratory.intrinsic+json": {
              "type": "string"
            }
          },
          "metadata": {},
          "execution_count": 25
        }
      ]
    },
    {
      "cell_type": "markdown",
      "source": [
        "### The F string method"
      ],
      "metadata": {
        "id": "1TyUcCLAPzxc"
      }
    },
    {
      "cell_type": "code",
      "source": [
        "price = 19.99\n",
        "items = 3 #Two variables of float and integer type"
      ],
      "metadata": {
        "id": "5HVHpAfJPzuR"
      },
      "execution_count": 27,
      "outputs": []
    },
    {
      "cell_type": "code",
      "source": [
        "msg= f'this idividual item is {price}' #With the f at the beginning of the string you're telling the compiler that the string is being formatted"
      ],
      "metadata": {
        "id": "D-66gu8EPzsj"
      },
      "execution_count": 28,
      "outputs": []
    },
    {
      "cell_type": "code",
      "source": [
        "msg #Displaying the formated message"
      ],
      "metadata": {
        "colab": {
          "base_uri": "https://localhost:8080/",
          "height": 35
        },
        "id": "E1XH6ZUuPzpm",
        "outputId": "b4c58d88-78b6-4d30-b5f5-33f263d4b7b3"
      },
      "execution_count": 29,
      "outputs": [
        {
          "output_type": "execute_result",
          "data": {
            "text/plain": [
              "'this idividual item is 19.99'"
            ],
            "application/vnd.google.colaboratory.intrinsic+json": {
              "type": "string"
            }
          },
          "metadata": {},
          "execution_count": 29
        }
      ]
    },
    {
      "cell_type": "code",
      "source": [
        "msg2= f'total is {price * items}' #You can do mathematical operations inside curly brackets of a formatted string"
      ],
      "metadata": {
        "id": "69uR3avVPzln"
      },
      "execution_count": 30,
      "outputs": []
    },
    {
      "cell_type": "code",
      "source": [
        "msg2 #Displaying the message"
      ],
      "metadata": {
        "colab": {
          "base_uri": "https://localhost:8080/",
          "height": 35
        },
        "id": "_3fiwsqLPzis",
        "outputId": "723c3582-9067-4360-d548-811c98af3a75"
      },
      "execution_count": 31,
      "outputs": [
        {
          "output_type": "execute_result",
          "data": {
            "text/plain": [
              "'total is 59.97'"
            ],
            "application/vnd.google.colaboratory.intrinsic+json": {
              "type": "string"
            }
          },
          "metadata": {},
          "execution_count": 31
        }
      ]
    },
    {
      "cell_type": "code",
      "source": [],
      "metadata": {
        "id": "teb53yXHPzfH"
      },
      "execution_count": null,
      "outputs": []
    }
  ]
}