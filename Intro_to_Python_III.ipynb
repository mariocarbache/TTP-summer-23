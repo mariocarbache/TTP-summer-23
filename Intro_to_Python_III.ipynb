{
  "nbformat": 4,
  "nbformat_minor": 0,
  "metadata": {
    "colab": {
      "provenance": [],
      "toc_visible": true,
      "include_colab_link": true
    },
    "kernelspec": {
      "name": "python3",
      "display_name": "Python 3"
    },
    "language_info": {
      "name": "python"
    }
  },
  "cells": [
    {
      "cell_type": "markdown",
      "metadata": {
        "id": "view-in-github",
        "colab_type": "text"
      },
      "source": [
        "<a href=\"https://colab.research.google.com/github/mariocarbache/TTP-summer-23/blob/main/Intro_to_Python_III.ipynb\" target=\"_parent\"><img src=\"https://colab.research.google.com/assets/colab-badge.svg\" alt=\"Open In Colab\"/></a>"
      ]
    },
    {
      "cell_type": "markdown",
      "source": [
        "# Conditionals"
      ],
      "metadata": {
        "id": "Fiv9yD2anvvQ"
      }
    },
    {
      "cell_type": "markdown",
      "source": [
        "## The `if` Statement"
      ],
      "metadata": {
        "id": "7uDhuKO6oHpD"
      }
    },
    {
      "cell_type": "code",
      "source": [
        "night = False"
      ],
      "metadata": {
        "id": "CdxsSPEQoHmS"
      },
      "execution_count": null,
      "outputs": []
    },
    {
      "cell_type": "code",
      "source": [
        "type(night)"
      ],
      "metadata": {
        "colab": {
          "base_uri": "https://localhost:8080/"
        },
        "id": "f5gEh9T0oHi6",
        "outputId": "d794bd33-e5bf-464b-c1d3-063f883f80ad"
      },
      "execution_count": null,
      "outputs": [
        {
          "output_type": "execute_result",
          "data": {
            "text/plain": [
              "bool"
            ]
          },
          "metadata": {},
          "execution_count": 2
        }
      ]
    },
    {
      "cell_type": "code",
      "source": [
        "# if (something) -> then do something... if not -> then do something else."
      ],
      "metadata": {
        "id": "wcJnwp7p3epy"
      },
      "execution_count": null,
      "outputs": []
    },
    {
      "cell_type": "code",
      "source": [
        "if night: # == True:\n",
        "    print(\"It's night. Sleeping\")\n",
        "else:\n",
        "    print(\"It's day. Being active.\")\n",
        "\n",
        "\n",
        "print(\"Out of the if statement\")"
      ],
      "metadata": {
        "colab": {
          "base_uri": "https://localhost:8080/"
        },
        "id": "wIyWEiEvoHfv",
        "outputId": "b01bf2d0-f4ea-4168-867d-8bcca9e44f39"
      },
      "execution_count": null,
      "outputs": [
        {
          "output_type": "stream",
          "name": "stdout",
          "text": [
            "It's day. Being active.\n",
            "Out of the if statement\n"
          ]
        }
      ]
    },
    {
      "cell_type": "code",
      "source": [
        "a, b, c = 100, 50, 20\n",
        "if a > b and b > c:\n",
        "    print(f\"{a} greater than {c}\")"
      ],
      "metadata": {
        "colab": {
          "base_uri": "https://localhost:8080/"
        },
        "id": "0Z8JpPV2oHcV",
        "outputId": "eb64cae3-95e4-4151-9f9a-70222f792366"
      },
      "execution_count": null,
      "outputs": [
        {
          "output_type": "stream",
          "name": "stdout",
          "text": [
            "100 greater than 20\n"
          ]
        }
      ]
    },
    {
      "cell_type": "code",
      "source": [
        "data = input(\"Do you have the keys? (yes/no)\")\n",
        "if data.lower() == \"yes\":\n",
        "    print(\"Starting the car\")\n",
        "else:\n",
        "    print(\"Car cannot start without the keys\")\n"
      ],
      "metadata": {
        "colab": {
          "base_uri": "https://localhost:8080/"
        },
        "id": "Vqyxy52XoHY9",
        "outputId": "0dabefd9-28ff-40fd-d01e-69a55a0d0d92"
      },
      "execution_count": null,
      "outputs": [
        {
          "output_type": "stream",
          "name": "stdout",
          "text": [
            "Do you have the keys? (yes/no)no\n",
            "Car cannot start without the keys\n"
          ]
        }
      ]
    },
    {
      "cell_type": "code",
      "source": [
        "data = input(\"Please enter the current hour (0-23): \")\n",
        "hour = int(data)\n",
        "if hour < 12:\n",
        "    print(f\"It's {hour} am\")\n",
        "else:\n",
        "    print(f\"It's {hour-12} pm\")\n"
      ],
      "metadata": {
        "colab": {
          "base_uri": "https://localhost:8080/"
        },
        "id": "Ze54usJDoHVT",
        "outputId": "e64d989a-ac18-408d-d90f-64b8dde1abf3"
      },
      "execution_count": null,
      "outputs": [
        {
          "output_type": "stream",
          "name": "stdout",
          "text": [
            "Please enter the current hour (0-23): 8\n",
            "It's 8 am\n"
          ]
        }
      ]
    },
    {
      "cell_type": "markdown",
      "source": [
        "#### Nested `if` Statements"
      ],
      "metadata": {
        "id": "36KpFpWe437Q"
      }
    },
    {
      "cell_type": "code",
      "source": [
        "pet_store = ['cat', 'dog', 'rabbit']\n",
        "has_cat_food = True\n",
        "\n",
        "if 'cat' in pet_store:\n",
        "    print(\"Alright! they have a cat for me\")\n",
        "\n",
        "    if has_cat_food:\n",
        "        print('Buying cat and cat food')\n",
        "\n",
        "    else:\n",
        "        print('Buying the cat only')\n",
        "        # more code inside the else block\n",
        "    # more code\n",
        "\n",
        "else:\n",
        "    print('Ask pet store to get cat')\n"
      ],
      "metadata": {
        "colab": {
          "base_uri": "https://localhost:8080/"
        },
        "id": "Y4kBcuhToHRx",
        "outputId": "df2a316b-1192-4d81-e28f-a8ecad67e538"
      },
      "execution_count": null,
      "outputs": [
        {
          "output_type": "stream",
          "name": "stdout",
          "text": [
            "Alright! they have a cat for me\n",
            "Buying cat and cat food\n"
          ]
        }
      ]
    },
    {
      "cell_type": "markdown",
      "source": [
        "#### More on indentation!"
      ],
      "metadata": {
        "id": "u2ZILAE8oHOZ"
      }
    },
    {
      "cell_type": "code",
      "source": [
        "if True:\n",
        "    print(\"This is part of the if statement\")\n",
        "print(\"The if statement has finished\")\n",
        "    # print(\"Not allowed\")\n",
        "\n"
      ],
      "metadata": {
        "colab": {
          "base_uri": "https://localhost:8080/"
        },
        "id": "AKnahsXBoHK4",
        "outputId": "bc936e36-52e6-4596-cf2b-f1a2aa2bad7c"
      },
      "execution_count": null,
      "outputs": [
        {
          "output_type": "stream",
          "name": "stdout",
          "text": [
            "This is part of the if statement\n",
            "The if statement has finished\n"
          ]
        }
      ]
    },
    {
      "cell_type": "code",
      "source": [
        "if 5 > 3:\n",
        "    print(\"This is part of expression 1\")\n",
        "\n",
        "    if 10 > 5:\n",
        "        print(\"This is part of expression2\")\n",
        "\n",
        "    print(\"This is also part of expression 1\")\n",
        "\n",
        "print(\"This is not part of any if statement\")\n",
        "    # print(\"This is not allowed\")\n"
      ],
      "metadata": {
        "colab": {
          "base_uri": "https://localhost:8080/"
        },
        "id": "tEp1_mNCoHHu",
        "outputId": "62756165-826f-454b-a9c4-b043b40ae999"
      },
      "execution_count": null,
      "outputs": [
        {
          "output_type": "stream",
          "name": "stdout",
          "text": [
            "This is part of expression 1\n",
            "This is part of expression2\n",
            "This is also part of expression 1\n",
            "This is not part of any if statement\n"
          ]
        }
      ]
    },
    {
      "cell_type": "markdown",
      "source": [
        "#### The `if_elif_else' Statement"
      ],
      "metadata": {
        "id": "Cd9t8aC-5xws"
      }
    },
    {
      "cell_type": "code",
      "source": [
        "age = int(input(\"Please enter your age: \"))\n",
        "\n",
        "if age < 18:\n",
        "    print(\"You are a minor\")\n",
        "elif age < 21:\n",
        "    print(\"You are an adult but cannot drink alcohol\")\n",
        "elif age < 35:\n",
        "    print(\"You are younger than 35\")\n",
        "else:\n",
        "    print(\"You are an adult\")\n",
        "\n",
        "print(\"If statement finished\")\n"
      ],
      "metadata": {
        "colab": {
          "base_uri": "https://localhost:8080/"
        },
        "id": "e7p6peme6A7X",
        "outputId": "e0c42b51-963b-4811-9429-f4477a7ebd07"
      },
      "execution_count": null,
      "outputs": [
        {
          "output_type": "stream",
          "name": "stdout",
          "text": [
            "Please enter your age: 78\n",
            "You are an adult\n",
            "If statement finished\n"
          ]
        }
      ]
    },
    {
      "cell_type": "markdown",
      "source": [
        "#### Shorthand `if` statement"
      ],
      "metadata": {
        "id": "4LPer4-o6A42"
      }
    },
    {
      "cell_type": "code",
      "source": [
        "a, b = 50, 20"
      ],
      "metadata": {
        "id": "mrx1vABn6A10"
      },
      "execution_count": null,
      "outputs": []
    },
    {
      "cell_type": "code",
      "source": [
        "if a > b: print(\"a > b\")"
      ],
      "metadata": {
        "colab": {
          "base_uri": "https://localhost:8080/"
        },
        "id": "7sYn7Bab6Ay8",
        "outputId": "c0d62aca-70cd-418e-96ee-972cc0f19d7d"
      },
      "execution_count": null,
      "outputs": [
        {
          "output_type": "stream",
          "name": "stdout",
          "text": [
            "a > b\n"
          ]
        }
      ]
    },
    {
      "cell_type": "code",
      "source": [
        "print(\"a > b\") if a > b else print(\"b > a\")"
      ],
      "metadata": {
        "colab": {
          "base_uri": "https://localhost:8080/"
        },
        "id": "W7QJRFYT6Avz",
        "outputId": "701426bd-1621-480e-a237-35091a347e2f"
      },
      "execution_count": null,
      "outputs": [
        {
          "output_type": "stream",
          "name": "stdout",
          "text": [
            "a > b\n"
          ]
        }
      ]
    },
    {
      "cell_type": "code",
      "source": [
        "max = a if a > b else b\n",
        "print(max)"
      ],
      "metadata": {
        "colab": {
          "base_uri": "https://localhost:8080/"
        },
        "id": "lB3m8tsD6Asw",
        "outputId": "9589e8d3-d4a0-44ee-8c12-420f3e1a165e"
      },
      "execution_count": null,
      "outputs": [
        {
          "output_type": "stream",
          "name": "stdout",
          "text": [
            "50\n"
          ]
        }
      ]
    },
    {
      "cell_type": "markdown",
      "source": [
        "#### The `pass` keyword"
      ],
      "metadata": {
        "id": "1OQDP7076ApN"
      }
    },
    {
      "cell_type": "code",
      "source": [
        "has_cat = False\n",
        "\n",
        "if has_cat: # This means --> if has_cat == True\n",
        "    pass\n",
        "else:\n",
        "    print(\"You should get a cat\")\n"
      ],
      "metadata": {
        "colab": {
          "base_uri": "https://localhost:8080/"
        },
        "id": "KhYmj2uh6AmO",
        "outputId": "dac678ea-f9f1-48fa-e4cd-e22d696752d8"
      },
      "execution_count": null,
      "outputs": [
        {
          "output_type": "stream",
          "name": "stdout",
          "text": [
            "You should get a cat\n"
          ]
        }
      ]
    },
    {
      "cell_type": "code",
      "source": [
        "has_dog = False\n",
        "\n",
        "if has_dog:\n",
        "    print(\"Awesome!\")\n",
        "else:\n",
        "    pass\n",
        "    print(\"You should get one\")"
      ],
      "metadata": {
        "colab": {
          "base_uri": "https://localhost:8080/"
        },
        "id": "S2tu1_KF7RBr",
        "outputId": "8fbd6d0e-92e9-4164-b3a0-7509f45f3714"
      },
      "execution_count": null,
      "outputs": [
        {
          "output_type": "stream",
          "name": "stdout",
          "text": [
            "You should get one\n"
          ]
        }
      ]
    },
    {
      "cell_type": "markdown",
      "source": [
        "#### Practice"
      ],
      "metadata": {
        "id": "1SDg1aaB7W8E"
      }
    },
    {
      "cell_type": "code",
      "source": [
        "import random"
      ],
      "metadata": {
        "id": "0AUzVfB49GUF"
      },
      "execution_count": null,
      "outputs": []
    },
    {
      "cell_type": "code",
      "source": [
        "nb = random.randint(0, 100)\n",
        "print(f\"Number {nb} is even\") if nb % 2 == 0 else print(f\"Number {nb} is odd\")"
      ],
      "metadata": {
        "colab": {
          "base_uri": "https://localhost:8080/"
        },
        "id": "ynx4H7mg9GRG",
        "outputId": "4e13e383-4680-4c10-8c6a-99f1265df0de"
      },
      "execution_count": null,
      "outputs": [
        {
          "output_type": "stream",
          "name": "stdout",
          "text": [
            "Number 55 is odd\n"
          ]
        }
      ]
    },
    {
      "cell_type": "code",
      "source": [
        "numb = int(input('Please enter a number from 0-100: '))\n",
        "\n",
        "print(f\"Number {numb} is even\") if numb % 2 == 0 else print(f\"Number {numb} is odd\")"
      ],
      "metadata": {
        "colab": {
          "base_uri": "https://localhost:8080/"
        },
        "id": "oUzGQUth9GON",
        "outputId": "d6d75a20-8932-4bc2-ce35-383348153d35"
      },
      "execution_count": null,
      "outputs": [
        {
          "output_type": "stream",
          "name": "stdout",
          "text": [
            "Please enter a number from 0-100: 56\n",
            "Number 56 is even\n"
          ]
        }
      ]
    },
    {
      "cell_type": "markdown",
      "source": [
        "# Loops"
      ],
      "metadata": {
        "id": "avkHk-bk9GLN"
      }
    },
    {
      "cell_type": "markdown",
      "source": [
        "## The `for` Loop"
      ],
      "metadata": {
        "id": "NA1vJTdE9GIR"
      }
    },
    {
      "cell_type": "code",
      "source": [
        "animals = ['cat', 'dog', 'horse']\n",
        "for animal in animals:\n",
        "    print(f\"There is a {animal}\")\n"
      ],
      "metadata": {
        "colab": {
          "base_uri": "https://localhost:8080/"
        },
        "id": "y0gOneuT9GFJ",
        "outputId": "6a913e8a-57bc-4b8c-8a98-b24f454f9140"
      },
      "execution_count": null,
      "outputs": [
        {
          "output_type": "stream",
          "name": "stdout",
          "text": [
            "There is a cat\n",
            "There is a dog\n",
            "There is a horse\n"
          ]
        }
      ]
    },
    {
      "cell_type": "code",
      "source": [
        "for letter in 'pineapple':\n",
        "    print(letter.upper())"
      ],
      "metadata": {
        "colab": {
          "base_uri": "https://localhost:8080/"
        },
        "id": "_9bzWmImAvuP",
        "outputId": "c33062d2-d03f-44f7-95f8-8325c71e8641"
      },
      "execution_count": null,
      "outputs": [
        {
          "output_type": "stream",
          "name": "stdout",
          "text": [
            "P\n",
            "I\n",
            "N\n",
            "E\n",
            "A\n",
            "P\n",
            "P\n",
            "L\n",
            "E\n"
          ]
        }
      ]
    },
    {
      "cell_type": "code",
      "source": [
        "for number in range(0, 20, 2):\n",
        "    print(f\"{number} is an even number\")\n"
      ],
      "metadata": {
        "colab": {
          "base_uri": "https://localhost:8080/"
        },
        "id": "RtZD_cSgAvq9",
        "outputId": "86190e02-ef58-4280-89c3-fda6746f2ebf"
      },
      "execution_count": null,
      "outputs": [
        {
          "output_type": "stream",
          "name": "stdout",
          "text": [
            "0 is an even number\n",
            "2 is an even number\n",
            "4 is an even number\n",
            "6 is an even number\n",
            "8 is an even number\n",
            "10 is an even number\n",
            "12 is an even number\n",
            "14 is an even number\n",
            "16 is an even number\n",
            "18 is an even number\n"
          ]
        }
      ]
    },
    {
      "cell_type": "markdown",
      "source": [
        "#### `break` and `continue`"
      ],
      "metadata": {
        "id": "MOqpf6vYAvn0"
      }
    },
    {
      "cell_type": "code",
      "source": [
        "for number in range(0, 20, 2):\n",
        "    print(f\"{number} is an even number\")\n",
        "    if number == 10:\n",
        "        print(\"On ho! Not 10\")\n",
        "        break\n",
        "print(\"Next steps in out code\")\n"
      ],
      "metadata": {
        "colab": {
          "base_uri": "https://localhost:8080/"
        },
        "id": "vQhUW4kuAvlL",
        "outputId": "5f429303-e5f9-4ddf-fd47-8572e12a900d"
      },
      "execution_count": null,
      "outputs": [
        {
          "output_type": "stream",
          "name": "stdout",
          "text": [
            "0 is an even number\n",
            "2 is an even number\n",
            "4 is an even number\n",
            "6 is an even number\n",
            "8 is an even number\n",
            "10 is an even number\n",
            "On ho! Not 10\n",
            "Next steps in out code\n"
          ]
        }
      ]
    },
    {
      "cell_type": "code",
      "source": [
        "for number in range(0, 20, 2):\n",
        "    if number == 10:\n",
        "        print(\"We are not executing 10\")\n",
        "        continue\n",
        "    print(f\"{number} is an even number\")\n"
      ],
      "metadata": {
        "colab": {
          "base_uri": "https://localhost:8080/"
        },
        "id": "QGpnU--oAvh5",
        "outputId": "6e85e40a-f02f-43ab-da97-a80ac22f1a36"
      },
      "execution_count": null,
      "outputs": [
        {
          "output_type": "stream",
          "name": "stdout",
          "text": [
            "0 is an even number\n",
            "2 is an even number\n",
            "4 is an even number\n",
            "6 is an even number\n",
            "8 is an even number\n",
            "We are not executing 10\n",
            "12 is an even number\n",
            "14 is an even number\n",
            "16 is an even number\n",
            "18 is an even number\n"
          ]
        }
      ]
    },
    {
      "cell_type": "markdown",
      "source": [
        "#### Practice"
      ],
      "metadata": {
        "id": "3DrPQWN3AvfH"
      }
    },
    {
      "cell_type": "code",
      "source": [
        "for i in range(0, 10):\n",
        "    print(\"Hello for loop\")\n"
      ],
      "metadata": {
        "colab": {
          "base_uri": "https://localhost:8080/"
        },
        "id": "15o6GY0LAvb_",
        "outputId": "38614689-93c6-40a4-8666-4a1e9f337585"
      },
      "execution_count": null,
      "outputs": [
        {
          "output_type": "stream",
          "name": "stdout",
          "text": [
            "Hello for loop\n",
            "Hello for loop\n",
            "Hello for loop\n",
            "Hello for loop\n",
            "Hello for loop\n",
            "Hello for loop\n",
            "Hello for loop\n",
            "Hello for loop\n",
            "Hello for loop\n",
            "Hello for loop\n"
          ]
        }
      ]
    },
    {
      "cell_type": "code",
      "source": [
        "sum = 0\n",
        "for number in range(0, 101):\n",
        "    if number % 10 == 0:\n",
        "        continue\n",
        "    sum += number\n",
        "print(f\"The sum is {sum}\")\n"
      ],
      "metadata": {
        "colab": {
          "base_uri": "https://localhost:8080/"
        },
        "id": "M34qYiKiAvY2",
        "outputId": "7cf4aefb-5c0e-4e56-ea5e-5ed209182ccf"
      },
      "execution_count": null,
      "outputs": [
        {
          "output_type": "stream",
          "name": "stdout",
          "text": [
            "The sum is 4500\n"
          ]
        }
      ]
    },
    {
      "cell_type": "code",
      "source": [
        "customers = {\n",
        "    'Alice': 4,\n",
        "    'Judy': 8,\n",
        "    'Anna': 6\n",
        "}\n",
        "for customer in customers:\n",
        "    print(\"{} has made {} purchases\".format(customer, customers[customer]))\n"
      ],
      "metadata": {
        "colab": {
          "base_uri": "https://localhost:8080/"
        },
        "id": "kL_ohNOm9GB6",
        "outputId": "249c1a99-c4a7-43d8-c42f-c2bba1d66885"
      },
      "execution_count": null,
      "outputs": [
        {
          "output_type": "stream",
          "name": "stdout",
          "text": [
            "Alice has made 4 purchases\n",
            "Judy has made 8 purchases\n",
            "Anna has made 6 purchases\n"
          ]
        }
      ]
    },
    {
      "cell_type": "markdown",
      "source": [
        "#### Using `else` with `for` Loops"
      ],
      "metadata": {
        "id": "3FxWOHuIBYXD"
      }
    },
    {
      "cell_type": "code",
      "source": [
        "numbers1 = [1, 5, 9, 5, 7, 3]\n",
        "numbers2 = [2, 8, 6, 2, 4, 10]\n",
        "\n",
        "for number in numbers2:\n",
        "    if number % 2 == 0:\n",
        "        print(\"List contains at least 1 even number\")\n",
        "        break\n",
        "else:\n",
        "    print(\"The list does not contain any even numbers\")\n"
      ],
      "metadata": {
        "colab": {
          "base_uri": "https://localhost:8080/"
        },
        "id": "EwlC2HMEBYUb",
        "outputId": "3e7d38bc-db4f-42d0-931a-8bf835da3ded"
      },
      "execution_count": null,
      "outputs": [
        {
          "output_type": "stream",
          "name": "stdout",
          "text": [
            "List contains at least 1 even number\n"
          ]
        }
      ]
    },
    {
      "cell_type": "markdown",
      "source": [
        "#### Nested Loops"
      ],
      "metadata": {
        "id": "Yiash3amBYSD"
      }
    },
    {
      "cell_type": "code",
      "source": [
        "for x in range(6):\n",
        "    for y in range(6):\n",
        "        print(f\"{x} * {y} = {x * y}\")\n"
      ],
      "metadata": {
        "colab": {
          "base_uri": "https://localhost:8080/"
        },
        "id": "9JAswvH3BYO6",
        "outputId": "8d32bb69-8f95-46df-dc1e-09a52239cd85"
      },
      "execution_count": null,
      "outputs": [
        {
          "output_type": "stream",
          "name": "stdout",
          "text": [
            "0 * 0 = 0\n",
            "0 * 1 = 0\n",
            "0 * 2 = 0\n",
            "0 * 3 = 0\n",
            "0 * 4 = 0\n",
            "0 * 5 = 0\n",
            "1 * 0 = 0\n",
            "1 * 1 = 1\n",
            "1 * 2 = 2\n",
            "1 * 3 = 3\n",
            "1 * 4 = 4\n",
            "1 * 5 = 5\n",
            "2 * 0 = 0\n",
            "2 * 1 = 2\n",
            "2 * 2 = 4\n",
            "2 * 3 = 6\n",
            "2 * 4 = 8\n",
            "2 * 5 = 10\n",
            "3 * 0 = 0\n",
            "3 * 1 = 3\n",
            "3 * 2 = 6\n",
            "3 * 3 = 9\n",
            "3 * 4 = 12\n",
            "3 * 5 = 15\n",
            "4 * 0 = 0\n",
            "4 * 1 = 4\n",
            "4 * 2 = 8\n",
            "4 * 3 = 12\n",
            "4 * 4 = 16\n",
            "4 * 5 = 20\n",
            "5 * 0 = 0\n",
            "5 * 1 = 5\n",
            "5 * 2 = 10\n",
            "5 * 3 = 15\n",
            "5 * 4 = 20\n",
            "5 * 5 = 25\n"
          ]
        }
      ]
    },
    {
      "cell_type": "code",
      "source": [
        "size = 5\n",
        "for x in range(size):\n",
        "    for y in range(size):\n",
        "        print(f\"{x},{y}\\t\\t\", end='')\n",
        "    print()\n"
      ],
      "metadata": {
        "colab": {
          "base_uri": "https://localhost:8080/"
        },
        "id": "hUUkJ80U9F-n",
        "outputId": "59221d1f-589d-43ef-d44a-4a00b148d2c3"
      },
      "execution_count": null,
      "outputs": [
        {
          "output_type": "stream",
          "name": "stdout",
          "text": [
            "0,0\t\t0,1\t\t0,2\t\t0,3\t\t0,4\t\t\n",
            "1,0\t\t1,1\t\t1,2\t\t1,3\t\t1,4\t\t\n",
            "2,0\t\t2,1\t\t2,2\t\t2,3\t\t2,4\t\t\n",
            "3,0\t\t3,1\t\t3,2\t\t3,3\t\t3,4\t\t\n",
            "4,0\t\t4,1\t\t4,2\t\t4,3\t\t4,4\t\t\n"
          ]
        }
      ]
    },
    {
      "cell_type": "code",
      "source": [
        "for x in range(size):\n",
        "    for y in range(size):\n",
        "        if (x + y) % 2:\n",
        "            print(\"\\U0001F600\\t\", end='')\n",
        "        else:\n",
        "            print(\"\\U0001F60D\\t\", end='')\n",
        "    print()\n"
      ],
      "metadata": {
        "colab": {
          "base_uri": "https://localhost:8080/"
        },
        "id": "R6wIyYflBu0p",
        "outputId": "45b30d45-486d-40c6-f1b5-ca23f725ce9b"
      },
      "execution_count": null,
      "outputs": [
        {
          "output_type": "stream",
          "name": "stdout",
          "text": [
            "😍\t😀\t😍\t😀\t😍\t\n",
            "😀\t😍\t😀\t😍\t😀\t\n",
            "😍\t😀\t😍\t😀\t😍\t\n",
            "😀\t😍\t😀\t😍\t😀\t\n",
            "😍\t😀\t😍\t😀\t😍\t\n"
          ]
        }
      ]
    },
    {
      "cell_type": "markdown",
      "source": [
        "## The `while` Loop"
      ],
      "metadata": {
        "id": "EwH8rRrJ9F7O"
      }
    },
    {
      "cell_type": "code",
      "source": [
        "i = 0\n",
        "while i < 6:\n",
        "    print(i)\n",
        "    i += 1\n"
      ],
      "metadata": {
        "colab": {
          "base_uri": "https://localhost:8080/"
        },
        "id": "AFglem6eAu3h",
        "outputId": "a1bfe9c1-e49d-4512-926d-675b75dcb02d"
      },
      "execution_count": null,
      "outputs": [
        {
          "output_type": "stream",
          "name": "stdout",
          "text": [
            "0\n",
            "1\n",
            "2\n",
            "3\n",
            "4\n",
            "5\n"
          ]
        }
      ]
    },
    {
      "cell_type": "code",
      "source": [
        "puzzle_pieces = 20\n",
        "pieces_placed = 0\n",
        "\n",
        "while pieces_placed < puzzle_pieces:\n",
        "    pieces_placed += 1\n",
        "    print(f\"Piece {pieces_placed} placed\")\n"
      ],
      "metadata": {
        "colab": {
          "base_uri": "https://localhost:8080/"
        },
        "id": "0_8mUa13Au0R",
        "outputId": "257420c6-5f37-4c85-9aa8-9efb81b4ec2c"
      },
      "execution_count": null,
      "outputs": [
        {
          "output_type": "stream",
          "name": "stdout",
          "text": [
            "Piece 1 placed\n",
            "Piece 2 placed\n",
            "Piece 3 placed\n",
            "Piece 4 placed\n",
            "Piece 5 placed\n",
            "Piece 6 placed\n",
            "Piece 7 placed\n",
            "Piece 8 placed\n",
            "Piece 9 placed\n",
            "Piece 10 placed\n",
            "Piece 11 placed\n",
            "Piece 12 placed\n",
            "Piece 13 placed\n",
            "Piece 14 placed\n",
            "Piece 15 placed\n",
            "Piece 16 placed\n",
            "Piece 17 placed\n",
            "Piece 18 placed\n",
            "Piece 19 placed\n",
            "Piece 20 placed\n"
          ]
        }
      ]
    },
    {
      "cell_type": "markdown",
      "source": [
        "#### Using `else` with `while` Loops"
      ],
      "metadata": {
        "id": "sTNFP1y8AuxX"
      }
    },
    {
      "cell_type": "code",
      "source": [
        "i = 1\n",
        "while i < 10:\n",
        "    i += 3\n",
        "    if i % 2 == 0:\n",
        "        print(\"Sequence contains an even number\")\n",
        "        break\n",
        "else:\n",
        "    print(\"Sequence does not contain an even number\")\n"
      ],
      "metadata": {
        "colab": {
          "base_uri": "https://localhost:8080/"
        },
        "id": "mCD6TJ7xAuut",
        "outputId": "ca1d939d-7c7b-4340-c118-08f05317da9d"
      },
      "execution_count": null,
      "outputs": [
        {
          "output_type": "stream",
          "name": "stdout",
          "text": [
            "Sequence contains an even number\n"
          ]
        }
      ]
    },
    {
      "cell_type": "markdown",
      "source": [
        "#### A bit of Practice"
      ],
      "metadata": {
        "id": "vsluDcrXAurm"
      }
    },
    {
      "cell_type": "code",
      "source": [
        "i = 0\n",
        "while i < 10:\n",
        "    i += 1\n",
        "    print(f\"{i}. Hello while loop\")\n"
      ],
      "metadata": {
        "colab": {
          "base_uri": "https://localhost:8080/"
        },
        "id": "YGP32zscCDyz",
        "outputId": "7f7dc395-990d-4f67-93ce-418c1fab7a28"
      },
      "execution_count": null,
      "outputs": [
        {
          "output_type": "stream",
          "name": "stdout",
          "text": [
            "1. Hello while loop\n",
            "2. Hello while loop\n",
            "3. Hello while loop\n",
            "4. Hello while loop\n",
            "5. Hello while loop\n",
            "6. Hello while loop\n",
            "7. Hello while loop\n",
            "8. Hello while loop\n",
            "9. Hello while loop\n",
            "10. Hello while loop\n"
          ]
        }
      ]
    },
    {
      "cell_type": "code",
      "source": [
        "cats = ['Tigger', 'Smokey', 'Sassy', 'Patch', 'Sammy']\n",
        "i = 0\n",
        "while i < len(cats):\n",
        "    print(f\"Hello {cats[i]}\")\n",
        "    i += 1\n"
      ],
      "metadata": {
        "colab": {
          "base_uri": "https://localhost:8080/"
        },
        "id": "-55iIjLUCDwB",
        "outputId": "f7a14561-b0bb-4af5-dbcc-b01f91405428"
      },
      "execution_count": null,
      "outputs": [
        {
          "output_type": "stream",
          "name": "stdout",
          "text": [
            "Hello Tigger\n",
            "Hello Smokey\n",
            "Hello Sassy\n",
            "Hello Patch\n",
            "Hello Sammy\n"
          ]
        }
      ]
    },
    {
      "cell_type": "code",
      "source": [
        "number = int(input(\"Please enter a number:\\n\"))\n",
        "factorial = 1\n",
        "i = 1\n",
        "while i <= number:\n",
        "    factorial *= i\n",
        "    i += 1\n",
        "print(f\"{number}! = {factorial}\")\n"
      ],
      "metadata": {
        "colab": {
          "base_uri": "https://localhost:8080/"
        },
        "id": "8HcgYdoyCDtP",
        "outputId": "5e8d03ad-1b8a-467c-cc03-d743ce2d0d63"
      },
      "execution_count": null,
      "outputs": [
        {
          "output_type": "stream",
          "name": "stdout",
          "text": [
            "Please enter a number:\n",
            "7\n",
            "7! = 5040\n"
          ]
        }
      ]
    },
    {
      "cell_type": "code",
      "source": [
        "i = 0\n",
        "while True:\n",
        "    print(i)\n",
        "    i += 1\n",
        "    if i >= 10:\n",
        "        break\n"
      ],
      "metadata": {
        "colab": {
          "base_uri": "https://localhost:8080/"
        },
        "id": "UBfjtHIgCDqX",
        "outputId": "7dcae1fa-09f6-4ca7-ece0-1aac0adf2a3a"
      },
      "execution_count": null,
      "outputs": [
        {
          "output_type": "stream",
          "name": "stdout",
          "text": [
            "0\n",
            "1\n",
            "2\n",
            "3\n",
            "4\n",
            "5\n",
            "6\n",
            "7\n",
            "8\n",
            "9\n"
          ]
        }
      ]
    },
    {
      "cell_type": "markdown",
      "source": [
        "#### Practice problems Sols."
      ],
      "metadata": {
        "id": "LdOP8F9WCDnV"
      }
    },
    {
      "cell_type": "code",
      "source": [
        "# Problem 2: Confirm that a client has two of the same item in the cart.\n",
        "\n",
        "cart = ['two', 'two', 'elephants', 'penguin']"
      ],
      "metadata": {
        "id": "flEWe1gaCDk-"
      },
      "execution_count": null,
      "outputs": []
    },
    {
      "cell_type": "code",
      "source": [
        "cart"
      ],
      "metadata": {
        "colab": {
          "base_uri": "https://localhost:8080/"
        },
        "id": "1cnE1LvOaFfv",
        "outputId": "e09dbe77-eef3-4a5a-a973-f3b1b69976c1"
      },
      "execution_count": null,
      "outputs": [
        {
          "output_type": "execute_result",
          "data": {
            "text/plain": [
              "['two', 'two', 'elephants', 'penguin']"
            ]
          },
          "metadata": {},
          "execution_count": 41
        }
      ]
    },
    {
      "cell_type": "code",
      "source": [
        "dir(cart)"
      ],
      "metadata": {
        "colab": {
          "base_uri": "https://localhost:8080/"
        },
        "id": "JlTg7-SpaGRW",
        "outputId": "1f85bcad-c775-4157-d3d5-dfed5fbceafc"
      },
      "execution_count": null,
      "outputs": [
        {
          "output_type": "execute_result",
          "data": {
            "text/plain": [
              "['__add__',\n",
              " '__class__',\n",
              " '__class_getitem__',\n",
              " '__contains__',\n",
              " '__delattr__',\n",
              " '__delitem__',\n",
              " '__dir__',\n",
              " '__doc__',\n",
              " '__eq__',\n",
              " '__format__',\n",
              " '__ge__',\n",
              " '__getattribute__',\n",
              " '__getitem__',\n",
              " '__gt__',\n",
              " '__hash__',\n",
              " '__iadd__',\n",
              " '__imul__',\n",
              " '__init__',\n",
              " '__init_subclass__',\n",
              " '__iter__',\n",
              " '__le__',\n",
              " '__len__',\n",
              " '__lt__',\n",
              " '__mul__',\n",
              " '__ne__',\n",
              " '__new__',\n",
              " '__reduce__',\n",
              " '__reduce_ex__',\n",
              " '__repr__',\n",
              " '__reversed__',\n",
              " '__rmul__',\n",
              " '__setattr__',\n",
              " '__setitem__',\n",
              " '__sizeof__',\n",
              " '__str__',\n",
              " '__subclasshook__',\n",
              " 'append',\n",
              " 'clear',\n",
              " 'copy',\n",
              " 'count',\n",
              " 'extend',\n",
              " 'index',\n",
              " 'insert',\n",
              " 'pop',\n",
              " 'remove',\n",
              " 'reverse',\n",
              " 'sort']"
            ]
          },
          "metadata": {},
          "execution_count": 42
        }
      ]
    },
    {
      "cell_type": "code",
      "source": [
        "cart\n",
        "cart.count('two')"
      ],
      "metadata": {
        "colab": {
          "base_uri": "https://localhost:8080/"
        },
        "id": "RuP8deKOaQOY",
        "outputId": "06ad763f-2b12-4a9f-f921-92bcdc4f1231"
      },
      "execution_count": null,
      "outputs": [
        {
          "output_type": "execute_result",
          "data": {
            "text/plain": [
              "2"
            ]
          },
          "metadata": {},
          "execution_count": 44
        }
      ]
    },
    {
      "cell_type": "code",
      "source": [
        "cart\n"
      ],
      "metadata": {
        "colab": {
          "base_uri": "https://localhost:8080/"
        },
        "id": "xzQkDTxxaQMJ",
        "outputId": "4db47aee-1523-4cb9-82ba-a2e11ca4f453"
      },
      "execution_count": null,
      "outputs": [
        {
          "output_type": "execute_result",
          "data": {
            "text/plain": [
              "['two', 'two', 'elephants', 'penguin']"
            ]
          },
          "metadata": {},
          "execution_count": 45
        }
      ]
    },
    {
      "cell_type": "code",
      "source": [
        "cart.append('hammer')"
      ],
      "metadata": {
        "id": "CVoLtryZaQIN"
      },
      "execution_count": null,
      "outputs": []
    },
    {
      "cell_type": "code",
      "source": [
        "'hammer' in cart"
      ],
      "metadata": {
        "colab": {
          "base_uri": "https://localhost:8080/"
        },
        "id": "ilL6RcT0aQFI",
        "outputId": "a53f1d88-ee54-4c21-c05f-8dff70a88891"
      },
      "execution_count": null,
      "outputs": [
        {
          "output_type": "execute_result",
          "data": {
            "text/plain": [
              "True"
            ]
          },
          "metadata": {},
          "execution_count": 47
        }
      ]
    },
    {
      "cell_type": "code",
      "source": [
        "# Probelm 4\n",
        "client_funds, price, client_products = 110, 50, 0\n",
        "if client_funds >= price:\n",
        "    client_products += client_funds // price\n",
        "    client_funds %= price\n",
        "    print(f\"You have {client_products} product(s)\")\n",
        "    print(f\"You have {client_funds}$ left\")\n",
        "    # continue purchase flow\n",
        "else:\n",
        "    print(\"You have insufficient funds\")"
      ],
      "metadata": {
        "id": "F4EOxR-faQBo"
      },
      "execution_count": null,
      "outputs": []
    },
    {
      "cell_type": "code",
      "source": [
        "client_funds = 100\n",
        "price = 50\n",
        "client_products = 0"
      ],
      "metadata": {
        "id": "YausAN6haP-e"
      },
      "execution_count": null,
      "outputs": []
    },
    {
      "cell_type": "code",
      "source": [
        "if client_funds >= price:\n",
        "    # In this statment, the if statment is comparing that the price variable\n",
        "    # is less or equal to the client_funds vaariable.\n",
        "\n",
        "    client_products += client_funds // price\n",
        "    # Create a variable named client_products\n",
        "    # `client_funds // price` -> X -> the floor operation is carried out, returning the integer side of it.\n",
        "    # `client_products +=` -> this is assiging the return of the X Operation to the client_products\n",
        "\n",
        "    client_funds %= price\n",
        "    # The operation here is simple the return of the `modulus` operation reassigned to client_funds.\n",
        "\n",
        "    print(f\"You have {client_products} product(s)\")\n",
        "    print(f\"You have {client_funds}$ left\")"
      ],
      "metadata": {
        "id": "kCrpU_JGaP7E"
      },
      "execution_count": null,
      "outputs": []
    },
    {
      "cell_type": "code",
      "source": [],
      "metadata": {
        "id": "2Xh4CvHAaP3D"
      },
      "execution_count": null,
      "outputs": []
    }
  ]
}